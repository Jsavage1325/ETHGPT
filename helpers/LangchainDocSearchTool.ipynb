{
 "cells": [
  {
   "cell_type": "code",
   "execution_count": 14,
   "metadata": {},
   "outputs": [],
   "source": [
    "from langchain import PromptTemplate\n",
    "from langchain.tools import BaseTool\n",
    "from langchain.chat_models import ChatOpenAI\n",
    "from langchain.vectorstores import FAISS\n",
    "import pickle\n",
    "from langchain.callbacks.manager import AsyncCallbackManagerForToolRun, CallbackManagerForToolRun\n",
    "from typing import Optional\n",
    "\n",
    "\n",
    "llm = ChatOpenAI(temperature=0)\n",
    "\n",
    "class LangchainDocSearch(BaseTool):\n",
    "    name = \"langchain_doc_search\"\n",
    "    description = \"Langchain expert who will tell you how to do specific things using langchain.\"\n",
    "\n",
    "    def load_vector_store(self):\n",
    "        \"\"\"\n",
    "        Loads the langchain vector store from pickle into a local file\n",
    "        \"\"\"\n",
    "        global vector_store\n",
    "        with open(\"langchain_vectorstore.pkl\", \"rb\") as f:\n",
    "            vector_store = pickle.load(f)\n",
    "\n",
    "    def _run(self, query: str) -> str:\n",
    "        \"\"\"\n",
    "        Search the docs and return the most relevant pages content which we will use to feed to the model\n",
    "        \"\"\"\n",
    "        res = vector_store.similarity_search(query)\n",
    "        if res:\n",
    "            return res[0].page_content, res[0].metadata['source']\n",
    "    \n",
    "    async def _arun(self, query: str, run_manager: Optional[AsyncCallbackManagerForToolRun] = None) -> str:\n",
    "        \"\"\"Use the tool asynchronously.\"\"\"\n",
    "        raise NotImplementedError(\"langchain_doc_search does not support async\")"
   ]
  },
  {
   "cell_type": "code",
   "execution_count": 15,
   "metadata": {},
   "outputs": [],
   "source": [
    "lds = LangchainDocSearch()\n",
    "lds.load_vector_store()"
   ]
  },
  {
   "cell_type": "code",
   "execution_count": 16,
   "metadata": {},
   "outputs": [],
   "source": [
    "similar_docs, source = lds._run('Load a CSV document')"
   ]
  },
  {
   "cell_type": "code",
   "execution_count": 17,
   "metadata": {},
   "outputs": [
    {
     "name": "stdout",
     "output_type": "stream",
     "text": [
      "('.ipynb\\n'\n",
      " '.pdf\\n'\n",
      " 'CSV\\n'\n",
      " ' Contents \\n'\n",
      " 'Customizing the csv parsing and loading\\n'\n",
      " 'Specify a column to identify the document source\\n'\n",
      " 'CSV#\\n'\n",
      " 'A comma-separated values (CSV) file is a delimited text file that uses a '\n",
      " 'comma to separate values. Each line of the file is a data record. Each '\n",
      " 'record consists of one or more fields, separated by commas.\\n'\n",
      " 'Load csv data with a single row per document.\\n'\n",
      " 'from langchain.document_loaders.csv_loader import CSVLoader\\n'\n",
      " \"loader = CSVLoader(file_path='./example_data/mlb_teams_2012.csv')\\n\"\n",
      " 'data = loader.load()\\n'\n",
      " 'print(data)')\n",
      "'rtdocs/langchain.readthedocs.io/en/latest/modules/indexes/document_loaders/examples/csv.html'\n"
     ]
    }
   ],
   "source": [
    "from pprint import pprint\n",
    "pprint(similar_docs)\n",
    "pprint(source)"
   ]
  }
 ],
 "metadata": {
  "kernelspec": {
   "display_name": "Python 3.9.6 ('.venv': venv)",
   "language": "python",
   "name": "python3"
  },
  "language_info": {
   "codemirror_mode": {
    "name": "ipython",
    "version": 3
   },
   "file_extension": ".py",
   "mimetype": "text/x-python",
   "name": "python",
   "nbconvert_exporter": "python",
   "pygments_lexer": "ipython3",
   "version": "3.9.6"
  },
  "orig_nbformat": 4,
  "vscode": {
   "interpreter": {
    "hash": "6fceb2474790f2209e481992b811958417aba8e64a54bbea8cf85e9aa3265c1a"
   }
  }
 },
 "nbformat": 4,
 "nbformat_minor": 2
}
